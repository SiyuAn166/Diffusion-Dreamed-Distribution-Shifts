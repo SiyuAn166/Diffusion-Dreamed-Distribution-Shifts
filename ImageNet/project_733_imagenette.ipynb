{
  "cells": [
    {
      "cell_type": "code",
      "source": [
        "!pip install torch-fidelity"
      ],
      "metadata": {
        "colab": {
          "base_uri": "https://localhost:8080/"
        },
        "id": "bMCpiOz_P5jk",
        "outputId": "0bdbee80-1208-42f5-d0ae-dddd50bb1844"
      },
      "id": "bMCpiOz_P5jk",
      "execution_count": 5,
      "outputs": [
        {
          "output_type": "stream",
          "name": "stdout",
          "text": [
            "Looking in indexes: https://pypi.org/simple, https://us-python.pkg.dev/colab-wheels/public/simple/\n",
            "Collecting torch-fidelity\n",
            "  Downloading torch_fidelity-0.3.0-py3-none-any.whl (37 kB)\n",
            "Requirement already satisfied: Pillow in /usr/local/lib/python3.9/dist-packages (from torch-fidelity) (8.4.0)\n",
            "Requirement already satisfied: torch in /usr/local/lib/python3.9/dist-packages (from torch-fidelity) (1.13.1+cu116)\n",
            "Requirement already satisfied: torchvision in /usr/local/lib/python3.9/dist-packages (from torch-fidelity) (0.14.1+cu116)\n",
            "Requirement already satisfied: scipy in /usr/local/lib/python3.9/dist-packages (from torch-fidelity) (1.10.1)\n",
            "Requirement already satisfied: tqdm in /usr/local/lib/python3.9/dist-packages (from torch-fidelity) (4.65.0)\n",
            "Requirement already satisfied: numpy in /usr/local/lib/python3.9/dist-packages (from torch-fidelity) (1.22.4)\n",
            "Requirement already satisfied: typing-extensions in /usr/local/lib/python3.9/dist-packages (from torch->torch-fidelity) (4.5.0)\n",
            "Requirement already satisfied: requests in /usr/local/lib/python3.9/dist-packages (from torchvision->torch-fidelity) (2.27.1)\n",
            "Requirement already satisfied: certifi>=2017.4.17 in /usr/local/lib/python3.9/dist-packages (from requests->torchvision->torch-fidelity) (2022.12.7)\n",
            "Requirement already satisfied: idna<4,>=2.5 in /usr/local/lib/python3.9/dist-packages (from requests->torchvision->torch-fidelity) (3.4)\n",
            "Requirement already satisfied: charset-normalizer~=2.0.0 in /usr/local/lib/python3.9/dist-packages (from requests->torchvision->torch-fidelity) (2.0.12)\n",
            "Requirement already satisfied: urllib3<1.27,>=1.21.1 in /usr/local/lib/python3.9/dist-packages (from requests->torchvision->torch-fidelity) (1.26.15)\n",
            "Installing collected packages: torch-fidelity\n",
            "Successfully installed torch-fidelity-0.3.0\n"
          ]
        }
      ]
    },
    {
      "cell_type": "markdown",
      "source": [
        "Parachute"
      ],
      "metadata": {
        "id": "HjmqK5KdOJ-G"
      },
      "id": "HjmqK5KdOJ-G"
    },
    {
      "cell_type": "code",
      "source": [
        "!gdown https://drive.google.com/uc?id=1caGdY419kd5u42JrGxCAW0qwgLHoy_Yp\n",
        "!unzip -q parachute.zip"
      ],
      "metadata": {
        "colab": {
          "base_uri": "https://localhost:8080/"
        },
        "id": "90_f6yvsS-gy",
        "outputId": "db3afc97-5e0b-4905-c33a-b32dce3026b1"
      },
      "id": "90_f6yvsS-gy",
      "execution_count": null,
      "outputs": [
        {
          "output_type": "stream",
          "name": "stdout",
          "text": [
            "Downloading...\n",
            "From: https://drive.google.com/uc?id=1caGdY419kd5u42JrGxCAW0qwgLHoy_Yp\n",
            "To: /content/parachute.zip\n",
            "100% 465M/465M [00:09<00:00, 46.9MB/s]\n",
            "unzip:  cannot find or open data.zip, data.zip.zip or data.zip.ZIP.\n"
          ]
        }
      ]
    },
    {
      "cell_type": "code",
      "source": [
        "!fidelity --input1 /content/images --isc --gpu 0"
      ],
      "metadata": {
        "colab": {
          "base_uri": "https://localhost:8080/"
        },
        "id": "MM-Ojp5ce0NV",
        "outputId": "2563458c-4b4c-44e4-df47-7b164f97cf0d"
      },
      "id": "MM-Ojp5ce0NV",
      "execution_count": null,
      "outputs": [
        {
          "output_type": "stream",
          "name": "stdout",
          "text": [
            "Creating feature extractor \"inception-v3-compat\" with features ['logits_unbiased']\n",
            "Extracting features from input1\n",
            "Looking for samples non-recursivelty in \"/content/images\" with extensions png,jpg,jpeg\n",
            "Found 1000 samples\n",
            "/usr/local/lib/python3.9/dist-packages/torch/utils/data/dataloader.py:554: UserWarning: This DataLoader will create 4 worker processes in total. Our suggested max number of worker in current system is 2, which is smaller than what this DataLoader is going to create. Please be aware that excessive worker creation might get DataLoader running slow or even freeze, lower the worker number to avoid potential slowness/freeze if necessary.\n",
            "  warnings.warn(_create_warning_msg(\n",
            "Processing samples\n",
            "Inception Score: 1.6437382636165403 ± 0.16024505734914096\n",
            "inception_score_mean: 1.643738\n",
            "inception_score_std: 0.1602451\n"
          ]
        }
      ]
    },
    {
      "cell_type": "code",
      "source": [
        "!gdown https://drive.google.com/uc?id=1joCVIIPPp-1qrhyuZCYPKDrsCKCdmJJD\n"
      ],
      "metadata": {
        "colab": {
          "base_uri": "https://localhost:8080/"
        },
        "id": "pgMCEGXtOy-Q",
        "outputId": "dd9e4940-195b-4589-b705-3bd0376c4f77"
      },
      "id": "pgMCEGXtOy-Q",
      "execution_count": null,
      "outputs": [
        {
          "output_type": "stream",
          "name": "stdout",
          "text": [
            "Downloading...\n",
            "From: https://drive.google.com/uc?id=1joCVIIPPp-1qrhyuZCYPKDrsCKCdmJJD\n",
            "To: /content/parachute_o.zip\n",
            "100% 91.6M/91.6M [00:00<00:00, 244MB/s]\n"
          ]
        }
      ]
    },
    {
      "cell_type": "code",
      "source": [
        "!unzip -q parachute_o.zip"
      ],
      "metadata": {
        "colab": {
          "base_uri": "https://localhost:8080/"
        },
        "id": "Zdr0Op5-bNBs",
        "outputId": "38cc21c9-dbdb-4390-e45f-a9f77ee14e05"
      },
      "id": "Zdr0Op5-bNBs",
      "execution_count": null,
      "outputs": [
        {
          "output_type": "stream",
          "name": "stdout",
          "text": [
            "replace __MACOSX/._n03888257? [y]es, [n]o, [A]ll, [N]one, [r]ename: A\n"
          ]
        }
      ]
    },
    {
      "cell_type": "code",
      "source": [
        "!pip install -e git+https://github.com/toshas/torch-fidelity.git@master#egg=torch-fidelity"
      ],
      "metadata": {
        "colab": {
          "base_uri": "https://localhost:8080/"
        },
        "id": "r1RZd-5RQU4K",
        "outputId": "24b7e295-605b-487c-c0fa-a8301a93e21c"
      },
      "id": "r1RZd-5RQU4K",
      "execution_count": null,
      "outputs": [
        {
          "output_type": "stream",
          "name": "stdout",
          "text": [
            "Looking in indexes: https://pypi.org/simple, https://us-python.pkg.dev/colab-wheels/public/simple/\n",
            "Obtaining torch-fidelity from git+https://github.com/toshas/torch-fidelity.git@master#egg=torch-fidelity\n",
            "  Cloning https://github.com/toshas/torch-fidelity.git (to revision master) to ./src/torch-fidelity\n",
            "  Running command git clone --filter=blob:none --quiet https://github.com/toshas/torch-fidelity.git /content/src/torch-fidelity\n",
            "  Resolved https://github.com/toshas/torch-fidelity.git to commit ba07f7b5bb8368abafb8d394e85851ea0b50c6c8\n",
            "  Preparing metadata (setup.py) ... \u001b[?25l\u001b[?25hdone\n",
            "Requirement already satisfied: numpy in /usr/local/lib/python3.9/dist-packages (from torch-fidelity) (1.22.4)\n",
            "Requirement already satisfied: Pillow in /usr/local/lib/python3.9/dist-packages (from torch-fidelity) (8.4.0)\n",
            "Requirement already satisfied: scipy in /usr/local/lib/python3.9/dist-packages (from torch-fidelity) (1.10.1)\n",
            "Requirement already satisfied: torch in /usr/local/lib/python3.9/dist-packages (from torch-fidelity) (1.13.1+cu116)\n",
            "Requirement already satisfied: torchvision in /usr/local/lib/python3.9/dist-packages (from torch-fidelity) (0.14.1+cu116)\n",
            "Requirement already satisfied: tqdm in /usr/local/lib/python3.9/dist-packages (from torch-fidelity) (4.65.0)\n",
            "Requirement already satisfied: typing-extensions in /usr/local/lib/python3.9/dist-packages (from torch->torch-fidelity) (4.5.0)\n",
            "Requirement already satisfied: requests in /usr/local/lib/python3.9/dist-packages (from torchvision->torch-fidelity) (2.27.1)\n",
            "Requirement already satisfied: certifi>=2017.4.17 in /usr/local/lib/python3.9/dist-packages (from requests->torchvision->torch-fidelity) (2022.12.7)\n",
            "Requirement already satisfied: idna<4,>=2.5 in /usr/local/lib/python3.9/dist-packages (from requests->torchvision->torch-fidelity) (3.4)\n",
            "Requirement already satisfied: urllib3<1.27,>=1.21.1 in /usr/local/lib/python3.9/dist-packages (from requests->torchvision->torch-fidelity) (1.26.15)\n",
            "Requirement already satisfied: charset-normalizer~=2.0.0 in /usr/local/lib/python3.9/dist-packages (from requests->torchvision->torch-fidelity) (2.0.12)\n",
            "Installing collected packages: torch-fidelity\n",
            "  Attempting uninstall: torch-fidelity\n",
            "    Found existing installation: torch-fidelity 0.3.0\n",
            "    Uninstalling torch-fidelity-0.3.0:\n",
            "      Successfully uninstalled torch-fidelity-0.3.0\n",
            "  Running setup.py develop for torch-fidelity\n",
            "Successfully installed torch-fidelity-0.3.0\n"
          ]
        }
      ]
    },
    {
      "cell_type": "code",
      "source": [
        "from PIL import Image\n",
        "import os\n",
        "\n",
        "# Set the directory containing the images\n",
        "directory = \"/content/n03888257\"\n",
        "\n",
        "# Set the desired width and height for the resized images\n",
        "new_width, new_height = 512, 512\n",
        "\n",
        "# Loop through all the files in the directory\n",
        "for filename in os.listdir(directory):\n",
        "    # Check if the file is an image\n",
        "    if filename.endswith(\".jpg\") or filename.endswith(\".JPEG\") or filename.endswith(\".png\"):\n",
        "        # Open the image\n",
        "        with Image.open(os.path.join(directory, filename)) as img:\n",
        "            # Resize the image\n",
        "            img_resized = img.resize((new_width, new_height))\n",
        "            # Save the resized image with the same filename\n",
        "            img_resized.save(os.path.join(directory, filename))"
      ],
      "metadata": {
        "id": "AuKxxV9xVS1_"
      },
      "id": "AuKxxV9xVS1_",
      "execution_count": null,
      "outputs": []
    },
    {
      "cell_type": "code",
      "source": [
        "!fidelity --input1 /content/n03888257 --isc --gpu 0"
      ],
      "metadata": {
        "colab": {
          "base_uri": "https://localhost:8080/"
        },
        "id": "dvfFi_fRPC4U",
        "outputId": "f22dbfe9-1644-4fcb-e7af-765bd161323b"
      },
      "id": "dvfFi_fRPC4U",
      "execution_count": null,
      "outputs": [
        {
          "output_type": "stream",
          "name": "stdout",
          "text": [
            "Creating feature extractor \"inception-v3-compat\" with features ['logits_unbiased']\n",
            "Extracting features from input1\n",
            "Looking for samples non-recursivelty in \"/content/n03888257\" with extensions png,jpg,jpeg\n",
            "Found 960 samples, some are lossy-compressed - this may affect metrics\n",
            "/usr/local/lib/python3.9/dist-packages/torch/utils/data/dataloader.py:554: UserWarning: This DataLoader will create 4 worker processes in total. Our suggested max number of worker in current system is 2, which is smaller than what this DataLoader is going to create. Please be aware that excessive worker creation might get DataLoader running slow or even freeze, lower the worker number to avoid potential slowness/freeze if necessary.\n",
            "  warnings.warn(_create_warning_msg(\n",
            "Processing samples\n",
            "Inception Score: 1.3808714893346097 ± 0.0855660460021368\n",
            "inception_score_mean: 1.380871\n",
            "inception_score_std: 0.08556605\n"
          ]
        }
      ]
    },
    {
      "cell_type": "code",
      "source": [
        "!gdown https://drive.google.com/uc?id=1V1cc7EBdh_Rpc42VgKNFQSgdwNZ76Lbm"
      ],
      "metadata": {
        "colab": {
          "base_uri": "https://localhost:8080/"
        },
        "id": "zpXVyHHCb7Lm",
        "outputId": "520ffbd9-fc64-4126-a4a3-acc49bddbccb"
      },
      "id": "zpXVyHHCb7Lm",
      "execution_count": null,
      "outputs": [
        {
          "output_type": "stream",
          "name": "stdout",
          "text": [
            "Downloading...\n",
            "From: https://drive.google.com/uc?id=1V1cc7EBdh_Rpc42VgKNFQSgdwNZ76Lbm\n",
            "To: /content/cassette_player_o.zip\n",
            "100% 67.2M/67.2M [00:02<00:00, 24.5MB/s]\n"
          ]
        }
      ]
    },
    {
      "cell_type": "code",
      "source": [
        "!unzip -q cassette_player_o.zip"
      ],
      "metadata": {
        "id": "Q4Gm0toQhKod"
      },
      "id": "Q4Gm0toQhKod",
      "execution_count": null,
      "outputs": []
    },
    {
      "cell_type": "code",
      "source": [
        "from PIL import Image\n",
        "import os\n",
        "\n",
        "# Set the directory containing the images\n",
        "directory = \"/content/cassette_player_o\"\n",
        "\n",
        "# Set the desired width and height for the resized images\n",
        "new_width, new_height = 512, 512\n",
        "\n",
        "# Loop through all the files in the directory\n",
        "for filename in os.listdir(directory):\n",
        "    # Check if the file is an image\n",
        "    if filename.endswith(\".jpg\") or filename.endswith(\".JPEG\") or filename.endswith(\".png\"):\n",
        "        # Open the image\n",
        "        with Image.open(os.path.join(directory, filename)) as img:\n",
        "            # Resize the image\n",
        "            img_resized = img.resize((new_width, new_height))\n",
        "            # Save the resized image with the same filename\n",
        "            img_resized.save(os.path.join(directory, filename))"
      ],
      "metadata": {
        "id": "6rUQqBFohhHt"
      },
      "id": "6rUQqBFohhHt",
      "execution_count": null,
      "outputs": []
    },
    {
      "cell_type": "code",
      "source": [
        "!fidelity --input1 /content/cassette_player_o --isc --gpu 0"
      ],
      "metadata": {
        "colab": {
          "base_uri": "https://localhost:8080/"
        },
        "id": "yT1NOymghthy",
        "outputId": "d5cb6326-dfcc-42f3-bbc2-97bf825d58ff"
      },
      "id": "yT1NOymghthy",
      "execution_count": null,
      "outputs": [
        {
          "output_type": "stream",
          "name": "stdout",
          "text": [
            "Creating feature extractor \"inception-v3-compat\" with features ['logits_unbiased']\n",
            "Downloading: \"https://github.com/toshas/torch-fidelity/releases/download/v0.2.0/weights-inception-2015-12-05-6726825d.pth\" to /root/.cache/torch/hub/checkpoints/weights-inception-2015-12-05-6726825d.pth\n",
            "100% 91.2M/91.2M [00:05<00:00, 17.8MB/s]\n",
            "Extracting features from input1\n",
            "Looking for samples non-recursivelty in \"/content/cassette_player_o\" with extensions png,jpg,jpeg\n",
            "Found 993 samples, some are lossy-compressed - this may affect metrics\n",
            "/usr/local/lib/python3.9/dist-packages/torch/utils/data/dataloader.py:554: UserWarning: This DataLoader will create 4 worker processes in total. Our suggested max number of worker in current system is 2, which is smaller than what this DataLoader is going to create. Please be aware that excessive worker creation might get DataLoader running slow or even freeze, lower the worker number to avoid potential slowness/freeze if necessary.\n",
            "  warnings.warn(_create_warning_msg(\n",
            "Processing samples\n",
            "Inception Score: 2.030795742720255 ± 0.12130199608896568\n",
            "inception_score_mean: 2.030796\n",
            "inception_score_std: 0.121302\n"
          ]
        }
      ]
    },
    {
      "cell_type": "code",
      "source": [
        "!gdown https://drive.google.com/uc?id=1AZ7WAZLvyoCv1BktDvcINXnKcB-9SbtF"
      ],
      "metadata": {
        "colab": {
          "base_uri": "https://localhost:8080/"
        },
        "id": "pffGUXEljNQz",
        "outputId": "af6900d3-d569-4cdd-8a9e-b308a845938f"
      },
      "id": "pffGUXEljNQz",
      "execution_count": 1,
      "outputs": [
        {
          "output_type": "stream",
          "name": "stdout",
          "text": [
            "Downloading...\n",
            "From: https://drive.google.com/uc?id=1AZ7WAZLvyoCv1BktDvcINXnKcB-9SbtF\n",
            "To: /content/chain_saw_o.zip\n",
            "100% 101M/101M [00:01<00:00, 70.4MB/s] \n"
          ]
        }
      ]
    },
    {
      "cell_type": "code",
      "source": [
        "!unzip -q chain_saw_o.zip"
      ],
      "metadata": {
        "id": "dcWdtQyljZOQ"
      },
      "id": "dcWdtQyljZOQ",
      "execution_count": 2,
      "outputs": []
    },
    {
      "cell_type": "code",
      "source": [
        "from PIL import Image\n",
        "import os\n",
        "\n",
        "# Set the directory containing the images\n",
        "directory = \"/content/chain_saw_o\"\n",
        "\n",
        "# Set the desired width and height for the resized images\n",
        "new_width, new_height = 512, 512\n",
        "\n",
        "# Loop through all the files in the directory\n",
        "for filename in os.listdir(directory):\n",
        "    # Check if the file is an image\n",
        "    if filename.endswith(\".jpg\") or filename.endswith(\".JPEG\") or filename.endswith(\".png\"):\n",
        "        # Open the image\n",
        "        with Image.open(os.path.join(directory, filename)) as img:\n",
        "            # Resize the image\n",
        "            img_resized = img.resize((new_width, new_height))\n",
        "            # Save the resized image with the same filename\n",
        "            img_resized.save(os.path.join(directory, filename))"
      ],
      "metadata": {
        "id": "ijhEfA0MjpU9"
      },
      "id": "ijhEfA0MjpU9",
      "execution_count": 7,
      "outputs": []
    },
    {
      "cell_type": "code",
      "source": [
        "!fidelity --input1 /content/chain_saw_o --isc --gpu 0"
      ],
      "metadata": {
        "colab": {
          "base_uri": "https://localhost:8080/"
        },
        "id": "bXx5eYyjjzwJ",
        "outputId": "6942b1b3-e6df-4c84-9426-67a35b74bcf7"
      },
      "id": "bXx5eYyjjzwJ",
      "execution_count": null,
      "outputs": [
        {
          "output_type": "stream",
          "name": "stdout",
          "text": [
            "Creating feature extractor \"inception-v3-compat\" with features ['logits_unbiased']\n",
            "Extracting features from input1\n",
            "Looking for samples non-recursivelty in \"/content/chain_saw_o\" with extensions png,jpg,jpeg\n",
            "Found 858 samples, some are lossy-compressed - this may affect metrics\n",
            "/usr/local/lib/python3.9/dist-packages/torch/utils/data/dataloader.py:554: UserWarning: This DataLoader will create 4 worker processes in total. Our suggested max number of worker in current system is 2, which is smaller than what this DataLoader is going to create. Please be aware that excessive worker creation might get DataLoader running slow or even freeze, lower the worker number to avoid potential slowness/freeze if necessary.\n",
            "  warnings.warn(_create_warning_msg(\n",
            "Processing samples\n",
            "Inception Score: 1.3352312186395747 ± 0.09357253167257036\n",
            "inception_score_mean: 1.335231\n",
            "inception_score_std: 0.09357253\n"
          ]
        }
      ]
    },
    {
      "cell_type": "code",
      "source": [
        "!gdown https://drive.google.com/uc?id=1zbeQ0X7nSmVFQBidHXV8p7Rs4yizcnnY"
      ],
      "metadata": {
        "colab": {
          "base_uri": "https://localhost:8080/"
        },
        "id": "6b97xL-rgX4s",
        "outputId": "84636a9d-2584-4349-dcf8-30d4fb2389d7"
      },
      "id": "6b97xL-rgX4s",
      "execution_count": 21,
      "outputs": [
        {
          "output_type": "stream",
          "name": "stdout",
          "text": [
            "Downloading...\n",
            "From: https://drive.google.com/uc?id=1zbeQ0X7nSmVFQBidHXV8p7Rs4yizcnnY\n",
            "To: /content/images.zip\n",
            "100% 4.83G/4.83G [00:34<00:00, 139MB/s]\n"
          ]
        }
      ]
    },
    {
      "cell_type": "code",
      "source": [
        "!unzip -q images.zip"
      ],
      "metadata": {
        "id": "ZD9Q9zSGg1qN"
      },
      "id": "ZD9Q9zSGg1qN",
      "execution_count": 22,
      "outputs": []
    },
    {
      "cell_type": "code",
      "source": [
        "import os\n",
        "from PIL import Image\n",
        "\n",
        "# Set the source directory containing the images in different folders\n",
        "src_dir = \"/content/images\"\n",
        "\n",
        "# Set the destination directory to save the renamed images\n",
        "dst_dir = \"/content/all\"\n",
        "\n",
        "# Loop through all the folders in the source directory\n",
        "for foldername in os.listdir(src_dir):\n",
        "    # Check if the item in the directory is a folder\n",
        "    if os.path.isdir(os.path.join(src_dir, foldername)):\n",
        "        # Loop through all the files in the folder\n",
        "        for filename in os.listdir(os.path.join(src_dir, foldername)):\n",
        "            # Check if the file is an image\n",
        "            if filename.endswith(\".jpg\") or filename.endswith(\".jpeg\") or filename.endswith(\".png\"):\n",
        "                # Open the image\n",
        "                with Image.open(os.path.join(src_dir, foldername, filename)) as img:\n",
        "                    # Create the new filename by adding the folder name and the original filename\n",
        "                    new_filename = \"{}_{}\".format(foldername, filename)\n",
        "                    # Save the renamed image to the destination directory\n",
        "                    img.save(os.path.join(dst_dir, new_filename))"
      ],
      "metadata": {
        "id": "S9UneEd_kOE5"
      },
      "id": "S9UneEd_kOE5",
      "execution_count": null,
      "outputs": []
    },
    {
      "cell_type": "code",
      "source": [
        "import zipfile\n",
        "import os\n",
        "\n",
        "# Set the name of the zip file to create\n",
        "zip_filename = \"all.zip\"\n",
        "\n",
        "# Set the path of the folder to zip\n",
        "folder_path = \"/content/all\"\n",
        "\n",
        "# Create a ZipFile object with the name of the zip file and write mode\n",
        "zip_file = zipfile.ZipFile(zip_filename, 'w', zipfile.ZIP_DEFLATED)\n",
        "\n",
        "# Loop through all the files and directories in the folder\n",
        "for root, dirs, files in os.walk(folder_path):\n",
        "    for file in files:\n",
        "        # Add the file to the zip file\n",
        "        zip_file.write(os.path.join(root, file))\n",
        "\n",
        "# Close the zip file\n",
        "zip_file.close()"
      ],
      "metadata": {
        "id": "mne-O1qLOGSg"
      },
      "id": "mne-O1qLOGSg",
      "execution_count": null,
      "outputs": []
    },
    {
      "cell_type": "code",
      "source": [
        "from google.colab import files\n",
        "files.download(\"/content/all.zip\")"
      ],
      "metadata": {
        "colab": {
          "base_uri": "https://localhost:8080/",
          "height": 34
        },
        "id": "ZBWIQwHIQHfE",
        "outputId": "1aaf5e4c-e360-41a1-90e2-fcb6ec83dcac"
      },
      "id": "ZBWIQwHIQHfE",
      "execution_count": null,
      "outputs": [
        {
          "output_type": "display_data",
          "data": {
            "text/plain": [
              "<IPython.core.display.Javascript object>"
            ],
            "application/javascript": [
              "\n",
              "    async function download(id, filename, size) {\n",
              "      if (!google.colab.kernel.accessAllowed) {\n",
              "        return;\n",
              "      }\n",
              "      const div = document.createElement('div');\n",
              "      const label = document.createElement('label');\n",
              "      label.textContent = `Downloading \"${filename}\": `;\n",
              "      div.appendChild(label);\n",
              "      const progress = document.createElement('progress');\n",
              "      progress.max = size;\n",
              "      div.appendChild(progress);\n",
              "      document.body.appendChild(div);\n",
              "\n",
              "      const buffers = [];\n",
              "      let downloaded = 0;\n",
              "\n",
              "      const channel = await google.colab.kernel.comms.open(id);\n",
              "      // Send a message to notify the kernel that we're ready.\n",
              "      channel.send({})\n",
              "\n",
              "      for await (const message of channel.messages) {\n",
              "        // Send a message to notify the kernel that we're ready.\n",
              "        channel.send({})\n",
              "        if (message.buffers) {\n",
              "          for (const buffer of message.buffers) {\n",
              "            buffers.push(buffer);\n",
              "            downloaded += buffer.byteLength;\n",
              "            progress.value = downloaded;\n",
              "          }\n",
              "        }\n",
              "      }\n",
              "      const blob = new Blob(buffers, {type: 'application/binary'});\n",
              "      const a = document.createElement('a');\n",
              "      a.href = window.URL.createObjectURL(blob);\n",
              "      a.download = filename;\n",
              "      div.appendChild(a);\n",
              "      a.click();\n",
              "      div.remove();\n",
              "    }\n",
              "  "
            ]
          },
          "metadata": {}
        },
        {
          "output_type": "display_data",
          "data": {
            "text/plain": [
              "<IPython.core.display.Javascript object>"
            ],
            "application/javascript": [
              "download(\"download_bc4e8406-fca5-40c1-8216-18effc5e8d5d\", \"all.zip\", 4828094232)"
            ]
          },
          "metadata": {}
        }
      ]
    },
    {
      "cell_type": "code",
      "source": [
        "from google.colab import drive\n",
        "drive.mount('/content/drive/')"
      ],
      "metadata": {
        "colab": {
          "base_uri": "https://localhost:8080/"
        },
        "id": "UTgS4XQiTSAC",
        "outputId": "e2855fbb-0a8d-4d04-d005-6a2113333473"
      },
      "id": "UTgS4XQiTSAC",
      "execution_count": null,
      "outputs": [
        {
          "output_type": "stream",
          "name": "stdout",
          "text": [
            "Mounted at /content/drive/\n"
          ]
        }
      ]
    },
    {
      "cell_type": "code",
      "source": [
        "import os\n",
        "os.chdir('/content')"
      ],
      "metadata": {
        "id": "tZwC_XEETY9Q"
      },
      "id": "tZwC_XEETY9Q",
      "execution_count": null,
      "outputs": []
    },
    {
      "cell_type": "code",
      "source": [
        "!cp -r all.zip '/content/drive/MyDrive'"
      ],
      "metadata": {
        "id": "pXkT8kcmTxtq"
      },
      "id": "pXkT8kcmTxtq",
      "execution_count": null,
      "outputs": []
    },
    {
      "cell_type": "code",
      "source": [
        "!gdown https://drive.google.com/uc?id=1lhBDZuRM94g2AsA1J_jdnqLwcurjNgAo"
      ],
      "metadata": {
        "colab": {
          "base_uri": "https://localhost:8080/"
        },
        "id": "Csl8KAAaVMSH",
        "outputId": "8de16ce4-7685-440e-bab2-d2ec253c8eb2"
      },
      "id": "Csl8KAAaVMSH",
      "execution_count": 33,
      "outputs": [
        {
          "output_type": "stream",
          "name": "stdout",
          "text": [
            "Downloading...\n",
            "From: https://drive.google.com/uc?id=1lhBDZuRM94g2AsA1J_jdnqLwcurjNgAo\n",
            "To: /content/all.zip\n",
            "100% 4.83G/4.83G [01:02<00:00, 77.2MB/s]\n"
          ]
        }
      ]
    },
    {
      "cell_type": "code",
      "source": [
        "!unzip -q all.zip"
      ],
      "metadata": {
        "id": "cosi6cGvWLhA"
      },
      "id": "cosi6cGvWLhA",
      "execution_count": 34,
      "outputs": []
    },
    {
      "cell_type": "code",
      "source": [
        "!fidelity --input1 /content/content/all --isc --gpu 0"
      ],
      "metadata": {
        "colab": {
          "base_uri": "https://localhost:8080/"
        },
        "id": "FPkYb-e5X2p5",
        "outputId": "0c59c326-4bdd-4328-dfe8-34458c3c00d0"
      },
      "id": "FPkYb-e5X2p5",
      "execution_count": null,
      "outputs": [
        {
          "output_type": "stream",
          "name": "stdout",
          "text": [
            "Creating feature extractor \"inception-v3-compat\" with features ['logits_unbiased']\n",
            "Downloading: \"https://github.com/toshas/torch-fidelity/releases/download/v0.2.0/weights-inception-2015-12-05-6726825d.pth\" to /root/.cache/torch/hub/checkpoints/weights-inception-2015-12-05-6726825d.pth\n",
            "100% 91.2M/91.2M [00:00<00:00, 192MB/s]\n",
            "Extracting features from input1\n",
            "Looking for samples non-recursivelty in \"/content/content/all\" with extensions png,jpg,jpeg\n",
            "Found 10000 samples\n",
            "/usr/local/lib/python3.9/dist-packages/torch/utils/data/dataloader.py:554: UserWarning: This DataLoader will create 4 worker processes in total. Our suggested max number of worker in current system is 2, which is smaller than what this DataLoader is going to create. Please be aware that excessive worker creation might get DataLoader running slow or even freeze, lower the worker number to avoid potential slowness/freeze if necessary.\n",
            "  warnings.warn(_create_warning_msg(\n",
            "Processing samples\n",
            "Inception Score: 11.372649035359276 ± 0.17358646497963814\n",
            "inception_score_mean: 11.37265\n",
            "inception_score_std: 0.1735865\n"
          ]
        }
      ]
    },
    {
      "cell_type": "code",
      "source": [
        "!gdown https://drive.google.com/uc?id=1g9d7B2zoCZKQJs3JYi6VDONS5AkwxEg_"
      ],
      "metadata": {
        "colab": {
          "base_uri": "https://localhost:8080/"
        },
        "id": "LOiEljpSZOuy",
        "outputId": "1e9f0ee7-41df-4f4f-d089-7e36c2765936"
      },
      "id": "LOiEljpSZOuy",
      "execution_count": 1,
      "outputs": [
        {
          "output_type": "stream",
          "name": "stdout",
          "text": [
            "Downloading...\n",
            "From: https://drive.google.com/uc?id=1lSkIBp7-9Y48oDdhnNvvBqQsokTAa6Q6\n",
            "To: /content/train.zip\n",
            "100% 1.10G/1.10G [00:20<00:00, 52.5MB/s]\n"
          ]
        }
      ]
    },
    {
      "cell_type": "code",
      "source": [
        "!unzip -q train.zip"
      ],
      "metadata": {
        "id": "e5FsgKu5ZirU"
      },
      "id": "e5FsgKu5ZirU",
      "execution_count": 2,
      "outputs": []
    },
    {
      "cell_type": "code",
      "source": [
        "import os\n",
        "\n",
        "# Set the path of the folder to create\n",
        "folder_path = \"all_o\"\n",
        "\n",
        "# Create the folder if it doesn't exist\n",
        "if not os.path.exists(folder_path):\n",
        "    os.makedirs(folder_path)"
      ],
      "metadata": {
        "id": "n7xjbiqYaCj0"
      },
      "id": "n7xjbiqYaCj0",
      "execution_count": 3,
      "outputs": []
    },
    {
      "cell_type": "code",
      "source": [
        "import os\n",
        "from PIL import Image\n",
        "\n",
        "# Set the source directory containing the images in different folders\n",
        "src_dir = \"/content/train\"\n",
        "\n",
        "# Set the destination directory to save the renamed images\n",
        "dst_dir = \"/content/all_o\"\n",
        "\n",
        "# Loop through all the folders in the source directory\n",
        "for foldername in os.listdir(src_dir):\n",
        "    # Check if the item in the directory is a folder\n",
        "    if os.path.isdir(os.path.join(src_dir, foldername)):\n",
        "        # Loop through all the files in the folder\n",
        "        for filename in os.listdir(os.path.join(src_dir, foldername)):\n",
        "            # Check if the file is an image\n",
        "            if filename.endswith(\".jpg\") or filename.endswith(\".JPEG\") or filename.endswith(\".png\"):\n",
        "                # Open the image\n",
        "                with Image.open(os.path.join(src_dir, foldername, filename)) as img:\n",
        "                    # Create the new filename by adding the folder name and the original filename\n",
        "                    new_filename = \"{}_{}\".format(foldername, filename)\n",
        "                    # Save the renamed image to the destination directory\n",
        "                    img.save(os.path.join(dst_dir, new_filename))"
      ],
      "metadata": {
        "id": "CNSs19f3ZzYK"
      },
      "id": "CNSs19f3ZzYK",
      "execution_count": 4,
      "outputs": []
    },
    {
      "cell_type": "code",
      "source": [
        "from PIL import Image\n",
        "import os\n",
        "\n",
        "# Set the directory containing the images\n",
        "directory = \"/content/all_o\"\n",
        "\n",
        "# Set the desired width and height for the resized images\n",
        "new_width, new_height = 512, 512\n",
        "\n",
        "# Loop through all the files in the directory\n",
        "for filename in os.listdir(directory):\n",
        "    # Check if the file is an image\n",
        "    if filename.endswith(\".jpg\") or filename.endswith(\".JPEG\") or filename.endswith(\".png\"):\n",
        "        # Open the image\n",
        "        with Image.open(os.path.join(directory, filename)) as img:\n",
        "            # Resize the image\n",
        "            img_resized = img.resize((new_width, new_height))\n",
        "            # Save the resized image with the same filename\n",
        "            img_resized.save(os.path.join(directory, filename))"
      ],
      "metadata": {
        "id": "ILM7uWhabksM"
      },
      "id": "ILM7uWhabksM",
      "execution_count": 31,
      "outputs": []
    },
    {
      "cell_type": "code",
      "source": [
        "import zipfile\n",
        "import os\n",
        "\n",
        "# Set the name of the zip file to create\n",
        "zip_filename = \"all_o.zip\"\n",
        "\n",
        "# Set the path of the folder to zip\n",
        "folder_path = \"/content/all_o\"\n",
        "\n",
        "# Create a ZipFile object with the name of the zip file and write mode\n",
        "zip_file = zipfile.ZipFile(zip_filename, 'w', zipfile.ZIP_DEFLATED)\n",
        "\n",
        "# Loop through all the files and directories in the folder\n",
        "for root, dirs, files in os.walk(folder_path):\n",
        "    for file in files:\n",
        "        # Add the file to the zip file\n",
        "        zip_file.write(os.path.join(root, file))\n",
        "\n",
        "# Close the zip file\n",
        "zip_file.close()"
      ],
      "metadata": {
        "id": "7LjSFhUYcuJV"
      },
      "id": "7LjSFhUYcuJV",
      "execution_count": 6,
      "outputs": []
    },
    {
      "cell_type": "code",
      "source": [
        "from google.colab import drive\n",
        "drive.mount('/content/drive/')"
      ],
      "metadata": {
        "colab": {
          "base_uri": "https://localhost:8080/"
        },
        "id": "0SMziIesdEMP",
        "outputId": "44bc7e25-cf57-442f-deb5-404f74bb2dfc"
      },
      "id": "0SMziIesdEMP",
      "execution_count": 7,
      "outputs": [
        {
          "output_type": "stream",
          "name": "stdout",
          "text": [
            "Mounted at /content/drive/\n"
          ]
        }
      ]
    },
    {
      "cell_type": "code",
      "source": [
        "import os\n",
        "os.chdir('/content')"
      ],
      "metadata": {
        "id": "Xx_Nng9Nfl1i"
      },
      "id": "Xx_Nng9Nfl1i",
      "execution_count": 8,
      "outputs": []
    },
    {
      "cell_type": "code",
      "source": [
        "!cp -r all_o.zip '/content/drive/MyDrive'"
      ],
      "metadata": {
        "id": "sdgCLdWHfo6T"
      },
      "id": "sdgCLdWHfo6T",
      "execution_count": 10,
      "outputs": []
    },
    {
      "cell_type": "code",
      "source": [
        "!gdown https://drive.google.com/uc?id=1OZU0E8295szYDV-wNQsORaOLvOGjcymO"
      ],
      "metadata": {
        "colab": {
          "base_uri": "https://localhost:8080/"
        },
        "id": "4iSsdUlSgoVp",
        "outputId": "c8f4684c-ca18-40f6-f041-583d6446fd48"
      },
      "id": "4iSsdUlSgoVp",
      "execution_count": 1,
      "outputs": [
        {
          "output_type": "stream",
          "name": "stdout",
          "text": [
            "Downloading...\n",
            "From: https://drive.google.com/uc?id=1OZU0E8295szYDV-wNQsORaOLvOGjcymO\n",
            "To: /content/all_o.zip\n",
            "100% 405M/405M [00:02<00:00, 157MB/s]\n"
          ]
        }
      ]
    },
    {
      "cell_type": "code",
      "source": [
        "!unzip -q all_o.zip"
      ],
      "metadata": {
        "id": "Td3Oe6JPg9Rr"
      },
      "id": "Td3Oe6JPg9Rr",
      "execution_count": 2,
      "outputs": []
    },
    {
      "cell_type": "code",
      "source": [
        "!fidelity --input1 /content/content/all_o --isc --gpu 0"
      ],
      "metadata": {
        "colab": {
          "base_uri": "https://localhost:8080/"
        },
        "id": "MQpSYhHbhd8A",
        "outputId": "e00dc0b8-5eae-409b-b2d4-97987f752f3b"
      },
      "id": "MQpSYhHbhd8A",
      "execution_count": 6,
      "outputs": [
        {
          "output_type": "stream",
          "name": "stdout",
          "text": [
            "Creating feature extractor \"inception-v3-compat\" with features ['logits_unbiased']\n",
            "Downloading: \"https://github.com/toshas/torch-fidelity/releases/download/v0.2.0/weights-inception-2015-12-05-6726825d.pth\" to /root/.cache/torch/hub/checkpoints/weights-inception-2015-12-05-6726825d.pth\n",
            "100% 91.2M/91.2M [00:03<00:00, 24.0MB/s]\n",
            "Extracting features from input1\n",
            "Looking for samples non-recursivelty in \"/content/content/all_o\" with extensions png,jpg,jpeg\n",
            "Found 9469 samples, some are lossy-compressed - this may affect metrics\n",
            "/usr/local/lib/python3.9/dist-packages/torch/utils/data/dataloader.py:554: UserWarning: This DataLoader will create 4 worker processes in total. Our suggested max number of worker in current system is 2, which is smaller than what this DataLoader is going to create. Please be aware that excessive worker creation might get DataLoader running slow or even freeze, lower the worker number to avoid potential slowness/freeze if necessary.\n",
            "  warnings.warn(_create_warning_msg(\n",
            "Processing samples\n",
            "Inception Score: 11.76384194801388 ± 0.25143275679619853\n",
            "inception_score_mean: 11.76384\n",
            "inception_score_std: 0.2514328\n"
          ]
        }
      ]
    },
    {
      "cell_type": "code",
      "source": [
        "!pip install pytorch-fid"
      ],
      "metadata": {
        "id": "PWjInWcKPEBn",
        "outputId": "9faa54de-bb86-4ab1-c799-216643042928",
        "colab": {
          "base_uri": "https://localhost:8080/"
        }
      },
      "id": "PWjInWcKPEBn",
      "execution_count": 27,
      "outputs": [
        {
          "output_type": "stream",
          "name": "stdout",
          "text": [
            "Looking in indexes: https://pypi.org/simple, https://us-python.pkg.dev/colab-wheels/public/simple/\n",
            "Requirement already satisfied: pytorch-fid in /usr/local/lib/python3.9/dist-packages (0.3.0)\n",
            "Requirement already satisfied: torch>=1.0.1 in /usr/local/lib/python3.9/dist-packages (from pytorch-fid) (2.0.0)\n",
            "Requirement already satisfied: scipy in /usr/local/lib/python3.9/dist-packages (from pytorch-fid) (1.10.1)\n",
            "Requirement already satisfied: pillow in /usr/local/lib/python3.9/dist-packages (from pytorch-fid) (8.4.0)\n",
            "Requirement already satisfied: numpy in /usr/local/lib/python3.9/dist-packages (from pytorch-fid) (1.22.4)\n",
            "Requirement already satisfied: torchvision>=0.2.2 in /usr/local/lib/python3.9/dist-packages (from pytorch-fid) (0.15.1)\n",
            "Requirement already satisfied: nvidia-cudnn-cu11==8.5.0.96 in /usr/local/lib/python3.9/dist-packages (from torch>=1.0.1->pytorch-fid) (8.5.0.96)\n",
            "Requirement already satisfied: nvidia-nvtx-cu11==11.7.91 in /usr/local/lib/python3.9/dist-packages (from torch>=1.0.1->pytorch-fid) (11.7.91)\n",
            "Requirement already satisfied: typing-extensions in /usr/local/lib/python3.9/dist-packages (from torch>=1.0.1->pytorch-fid) (4.5.0)\n",
            "Requirement already satisfied: nvidia-cusolver-cu11==11.4.0.1 in /usr/local/lib/python3.9/dist-packages (from torch>=1.0.1->pytorch-fid) (11.4.0.1)\n",
            "Requirement already satisfied: nvidia-cusparse-cu11==11.7.4.91 in /usr/local/lib/python3.9/dist-packages (from torch>=1.0.1->pytorch-fid) (11.7.4.91)\n",
            "Requirement already satisfied: nvidia-nccl-cu11==2.14.3 in /usr/local/lib/python3.9/dist-packages (from torch>=1.0.1->pytorch-fid) (2.14.3)\n",
            "Requirement already satisfied: triton==2.0.0 in /usr/local/lib/python3.9/dist-packages (from torch>=1.0.1->pytorch-fid) (2.0.0)\n",
            "Requirement already satisfied: nvidia-cuda-nvrtc-cu11==11.7.99 in /usr/local/lib/python3.9/dist-packages (from torch>=1.0.1->pytorch-fid) (11.7.99)\n",
            "Requirement already satisfied: nvidia-curand-cu11==10.2.10.91 in /usr/local/lib/python3.9/dist-packages (from torch>=1.0.1->pytorch-fid) (10.2.10.91)\n",
            "Requirement already satisfied: nvidia-cublas-cu11==11.10.3.66 in /usr/local/lib/python3.9/dist-packages (from torch>=1.0.1->pytorch-fid) (11.10.3.66)\n",
            "Requirement already satisfied: networkx in /usr/local/lib/python3.9/dist-packages (from torch>=1.0.1->pytorch-fid) (3.0)\n",
            "Requirement already satisfied: jinja2 in /usr/local/lib/python3.9/dist-packages (from torch>=1.0.1->pytorch-fid) (3.1.2)\n",
            "Requirement already satisfied: nvidia-cufft-cu11==10.9.0.58 in /usr/local/lib/python3.9/dist-packages (from torch>=1.0.1->pytorch-fid) (10.9.0.58)\n",
            "Requirement already satisfied: nvidia-cuda-runtime-cu11==11.7.99 in /usr/local/lib/python3.9/dist-packages (from torch>=1.0.1->pytorch-fid) (11.7.99)\n",
            "Requirement already satisfied: filelock in /usr/local/lib/python3.9/dist-packages (from torch>=1.0.1->pytorch-fid) (3.10.7)\n",
            "Requirement already satisfied: nvidia-cuda-cupti-cu11==11.7.101 in /usr/local/lib/python3.9/dist-packages (from torch>=1.0.1->pytorch-fid) (11.7.101)\n",
            "Requirement already satisfied: sympy in /usr/local/lib/python3.9/dist-packages (from torch>=1.0.1->pytorch-fid) (1.11.1)\n",
            "Requirement already satisfied: setuptools in /usr/local/lib/python3.9/dist-packages (from nvidia-cublas-cu11==11.10.3.66->torch>=1.0.1->pytorch-fid) (67.6.1)\n",
            "Requirement already satisfied: wheel in /usr/local/lib/python3.9/dist-packages (from nvidia-cublas-cu11==11.10.3.66->torch>=1.0.1->pytorch-fid) (0.40.0)\n",
            "Requirement already satisfied: cmake in /usr/local/lib/python3.9/dist-packages (from triton==2.0.0->torch>=1.0.1->pytorch-fid) (3.25.2)\n",
            "Requirement already satisfied: lit in /usr/local/lib/python3.9/dist-packages (from triton==2.0.0->torch>=1.0.1->pytorch-fid) (16.0.0)\n",
            "Requirement already satisfied: requests in /usr/local/lib/python3.9/dist-packages (from torchvision>=0.2.2->pytorch-fid) (2.27.1)\n",
            "Requirement already satisfied: MarkupSafe>=2.0 in /usr/local/lib/python3.9/dist-packages (from jinja2->torch>=1.0.1->pytorch-fid) (2.1.2)\n",
            "Requirement already satisfied: certifi>=2017.4.17 in /usr/local/lib/python3.9/dist-packages (from requests->torchvision>=0.2.2->pytorch-fid) (2022.12.7)\n",
            "Requirement already satisfied: idna<4,>=2.5 in /usr/local/lib/python3.9/dist-packages (from requests->torchvision>=0.2.2->pytorch-fid) (3.4)\n",
            "Requirement already satisfied: urllib3<1.27,>=1.21.1 in /usr/local/lib/python3.9/dist-packages (from requests->torchvision>=0.2.2->pytorch-fid) (1.26.15)\n",
            "Requirement already satisfied: charset-normalizer~=2.0.0 in /usr/local/lib/python3.9/dist-packages (from requests->torchvision>=0.2.2->pytorch-fid) (2.0.12)\n",
            "Requirement already satisfied: mpmath>=0.19 in /usr/local/lib/python3.9/dist-packages (from sympy->torch>=1.0.1->pytorch-fid) (1.3.0)\n"
          ]
        }
      ]
    },
    {
      "cell_type": "code",
      "source": [
        "# !python -m pytorch_fid /content/chain_saw_o /content/chain_saw_o --batch-size 200\n",
        "!python -m pytorch_fid /content/all_o /content/all_o --dims 2048"
      ],
      "metadata": {
        "id": "ZzIktu1JUXhX",
        "outputId": "ab95d2d3-e4c6-4bb9-d330-b3ba5e7bfac8",
        "colab": {
          "base_uri": "https://localhost:8080/"
        }
      },
      "id": "ZzIktu1JUXhX",
      "execution_count": 26,
      "outputs": [
        {
          "output_type": "stream",
          "name": "stdout",
          "text": [
            "Warning: batch size is bigger than the data size. Setting batch size to data size\n",
            "Traceback (most recent call last):\n",
            "  File \"/usr/lib/python3.9/runpy.py\", line 197, in _run_module_as_main\n",
            "    return _run_code(code, main_globals, None,\n",
            "  File \"/usr/lib/python3.9/runpy.py\", line 87, in _run_code\n",
            "    exec(code, run_globals)\n",
            "  File \"/usr/local/lib/python3.9/dist-packages/pytorch_fid/__main__.py\", line 3, in <module>\n",
            "    pytorch_fid.fid_score.main()\n",
            "  File \"/usr/local/lib/python3.9/dist-packages/pytorch_fid/fid_score.py\", line 313, in main\n",
            "    fid_value = calculate_fid_given_paths(args.path,\n",
            "  File \"/usr/local/lib/python3.9/dist-packages/pytorch_fid/fid_score.py\", line 259, in calculate_fid_given_paths\n",
            "    m1, s1 = compute_statistics_of_path(paths[0], model, batch_size,\n",
            "  File \"/usr/local/lib/python3.9/dist-packages/pytorch_fid/fid_score.py\", line 243, in compute_statistics_of_path\n",
            "    m, s = calculate_activation_statistics(files, model, batch_size,\n",
            "  File \"/usr/local/lib/python3.9/dist-packages/pytorch_fid/fid_score.py\", line 228, in calculate_activation_statistics\n",
            "    act = get_activations(files, model, batch_size, dims, device, num_workers)\n",
            "  File \"/usr/local/lib/python3.9/dist-packages/pytorch_fid/fid_score.py\", line 122, in get_activations\n",
            "    dataloader = torch.utils.data.DataLoader(dataset,\n",
            "  File \"/usr/local/lib/python3.9/dist-packages/torch/utils/data/dataloader.py\", line 357, in __init__\n",
            "    batch_sampler = BatchSampler(sampler, batch_size, drop_last)\n",
            "  File \"/usr/local/lib/python3.9/dist-packages/torch/utils/data/sampler.py\", line 232, in __init__\n",
            "    raise ValueError(\"batch_size should be a positive integer value, \"\n",
            "ValueError: batch_size should be a positive integer value, but got batch_size=0\n"
          ]
        }
      ]
    },
    {
      "cell_type": "code",
      "source": [
        "!pip install torch-fidelity"
      ],
      "metadata": {
        "id": "EklWrCvGS6N1",
        "outputId": "54adb4e0-a9f2-4ebc-dca8-e47b62dc1df6",
        "colab": {
          "base_uri": "https://localhost:8080/"
        }
      },
      "id": "EklWrCvGS6N1",
      "execution_count": 28,
      "outputs": [
        {
          "output_type": "stream",
          "name": "stdout",
          "text": [
            "Looking in indexes: https://pypi.org/simple, https://us-python.pkg.dev/colab-wheels/public/simple/\n",
            "Collecting torch-fidelity\n",
            "  Downloading torch_fidelity-0.3.0-py3-none-any.whl (37 kB)\n",
            "Requirement already satisfied: numpy in /usr/local/lib/python3.9/dist-packages (from torch-fidelity) (1.22.4)\n",
            "Requirement already satisfied: Pillow in /usr/local/lib/python3.9/dist-packages (from torch-fidelity) (8.4.0)\n",
            "Requirement already satisfied: scipy in /usr/local/lib/python3.9/dist-packages (from torch-fidelity) (1.10.1)\n",
            "Requirement already satisfied: torch in /usr/local/lib/python3.9/dist-packages (from torch-fidelity) (2.0.0)\n",
            "Requirement already satisfied: torchvision in /usr/local/lib/python3.9/dist-packages (from torch-fidelity) (0.15.1)\n",
            "Requirement already satisfied: tqdm in /usr/local/lib/python3.9/dist-packages (from torch-fidelity) (4.65.0)\n",
            "Requirement already satisfied: nvidia-nvtx-cu11==11.7.91 in /usr/local/lib/python3.9/dist-packages (from torch->torch-fidelity) (11.7.91)\n",
            "Requirement already satisfied: nvidia-cufft-cu11==10.9.0.58 in /usr/local/lib/python3.9/dist-packages (from torch->torch-fidelity) (10.9.0.58)\n",
            "Requirement already satisfied: nvidia-cusolver-cu11==11.4.0.1 in /usr/local/lib/python3.9/dist-packages (from torch->torch-fidelity) (11.4.0.1)\n",
            "Requirement already satisfied: typing-extensions in /usr/local/lib/python3.9/dist-packages (from torch->torch-fidelity) (4.5.0)\n",
            "Requirement already satisfied: sympy in /usr/local/lib/python3.9/dist-packages (from torch->torch-fidelity) (1.11.1)\n",
            "Requirement already satisfied: nvidia-cuda-cupti-cu11==11.7.101 in /usr/local/lib/python3.9/dist-packages (from torch->torch-fidelity) (11.7.101)\n",
            "Requirement already satisfied: nvidia-curand-cu11==10.2.10.91 in /usr/local/lib/python3.9/dist-packages (from torch->torch-fidelity) (10.2.10.91)\n",
            "Requirement already satisfied: nvidia-cudnn-cu11==8.5.0.96 in /usr/local/lib/python3.9/dist-packages (from torch->torch-fidelity) (8.5.0.96)\n",
            "Requirement already satisfied: nvidia-cublas-cu11==11.10.3.66 in /usr/local/lib/python3.9/dist-packages (from torch->torch-fidelity) (11.10.3.66)\n",
            "Requirement already satisfied: nvidia-nccl-cu11==2.14.3 in /usr/local/lib/python3.9/dist-packages (from torch->torch-fidelity) (2.14.3)\n",
            "Requirement already satisfied: filelock in /usr/local/lib/python3.9/dist-packages (from torch->torch-fidelity) (3.10.7)\n",
            "Requirement already satisfied: networkx in /usr/local/lib/python3.9/dist-packages (from torch->torch-fidelity) (3.0)\n",
            "Requirement already satisfied: jinja2 in /usr/local/lib/python3.9/dist-packages (from torch->torch-fidelity) (3.1.2)\n",
            "Requirement already satisfied: triton==2.0.0 in /usr/local/lib/python3.9/dist-packages (from torch->torch-fidelity) (2.0.0)\n",
            "Requirement already satisfied: nvidia-cuda-nvrtc-cu11==11.7.99 in /usr/local/lib/python3.9/dist-packages (from torch->torch-fidelity) (11.7.99)\n",
            "Requirement already satisfied: nvidia-cuda-runtime-cu11==11.7.99 in /usr/local/lib/python3.9/dist-packages (from torch->torch-fidelity) (11.7.99)\n",
            "Requirement already satisfied: nvidia-cusparse-cu11==11.7.4.91 in /usr/local/lib/python3.9/dist-packages (from torch->torch-fidelity) (11.7.4.91)\n",
            "Requirement already satisfied: setuptools in /usr/local/lib/python3.9/dist-packages (from nvidia-cublas-cu11==11.10.3.66->torch->torch-fidelity) (67.6.1)\n",
            "Requirement already satisfied: wheel in /usr/local/lib/python3.9/dist-packages (from nvidia-cublas-cu11==11.10.3.66->torch->torch-fidelity) (0.40.0)\n",
            "Requirement already satisfied: cmake in /usr/local/lib/python3.9/dist-packages (from triton==2.0.0->torch->torch-fidelity) (3.25.2)\n",
            "Requirement already satisfied: lit in /usr/local/lib/python3.9/dist-packages (from triton==2.0.0->torch->torch-fidelity) (16.0.0)\n",
            "Requirement already satisfied: requests in /usr/local/lib/python3.9/dist-packages (from torchvision->torch-fidelity) (2.27.1)\n",
            "Requirement already satisfied: MarkupSafe>=2.0 in /usr/local/lib/python3.9/dist-packages (from jinja2->torch->torch-fidelity) (2.1.2)\n",
            "Requirement already satisfied: urllib3<1.27,>=1.21.1 in /usr/local/lib/python3.9/dist-packages (from requests->torchvision->torch-fidelity) (1.26.15)\n",
            "Requirement already satisfied: certifi>=2017.4.17 in /usr/local/lib/python3.9/dist-packages (from requests->torchvision->torch-fidelity) (2022.12.7)\n",
            "Requirement already satisfied: idna<4,>=2.5 in /usr/local/lib/python3.9/dist-packages (from requests->torchvision->torch-fidelity) (3.4)\n",
            "Requirement already satisfied: charset-normalizer~=2.0.0 in /usr/local/lib/python3.9/dist-packages (from requests->torchvision->torch-fidelity) (2.0.12)\n",
            "Requirement already satisfied: mpmath>=0.19 in /usr/local/lib/python3.9/dist-packages (from sympy->torch->torch-fidelity) (1.3.0)\n",
            "Installing collected packages: torch-fidelity\n",
            "Successfully installed torch-fidelity-0.3.0\n"
          ]
        }
      ]
    },
    {
      "cell_type": "code",
      "source": [
        "!fidelity  --input1 /content/all_o --input2 /content/content/all -g 0 -f"
      ],
      "metadata": {
        "id": "qugUFFssS2Hy",
        "outputId": "713af7b3-9acc-4d2d-c580-83080012d648",
        "colab": {
          "base_uri": "https://localhost:8080/"
        }
      },
      "id": "qugUFFssS2Hy",
      "execution_count": 35,
      "outputs": [
        {
          "output_type": "stream",
          "name": "stdout",
          "text": [
            "Creating feature extractor \"inception-v3-compat\" with features ['2048']\n",
            "Extracting statistics from input 1\n",
            "Looking for samples non-recursivelty in \"/content/all_o\" with extensions png,jpg,jpeg\n",
            "Found 9469 samples, some are lossy-compressed - this may affect metrics\n",
            "/usr/local/lib/python3.9/dist-packages/torch_fidelity/datasets.py:16: UserWarning: TypedStorage is deprecated. It will be removed in the future and UntypedStorage will be the only storage class. This should only matter to you if you are using storages directly.  To access UntypedStorage directly, use tensor.untyped_storage() instead of tensor.storage()\n",
            "  img = torch.ByteTensor(torch.ByteStorage.from_buffer(img.tobytes())).view(height, width, 3)\n",
            "/usr/local/lib/python3.9/dist-packages/torch/utils/data/dataloader.py:561: UserWarning: This DataLoader will create 4 worker processes in total. Our suggested max number of worker in current system is 2, which is smaller than what this DataLoader is going to create. Please be aware that excessive worker creation might get DataLoader running slow or even freeze, lower the worker number to avoid potential slowness/freeze if necessary.\n",
            "  warnings.warn(_create_warning_msg(\n",
            "Processing samples\n",
            "Extracting statistics from input 2\n",
            "Looking for samples non-recursivelty in \"/content/content/all\" with extensions png,jpg,jpeg\n",
            "Found 10000 samples\n",
            "Processing samples\n",
            "Frechet Inception Distance: 31.146594454273554\n",
            "frechet_inception_distance: 31.14659\n"
          ]
        }
      ]
    },
    {
      "cell_type": "code",
      "source": [
        "import os\n",
        "import random\n",
        "from PIL import Image\n",
        "\n",
        "# Set the path of the folder containing the images\n",
        "folder_path = \"/content/all_o\"\n",
        "\n",
        "# Get a list of all the image file names in the folder\n",
        "image_files = [os.path.join(folder_path, f) for f in os.listdir(folder_path) if os.path.isfile(os.path.join(folder_path, f))]\n",
        "\n",
        "# Select a random image file from the list\n",
        "random_image_file = random.choice(image_files)\n",
        "\n",
        "# Open the image file using PIL\n",
        "image = Image.open(random_image_file)\n",
        "\n",
        "# Display the image\n",
        "image.show()"
      ],
      "metadata": {
        "id": "-4rutZ_qrsdT"
      },
      "id": "-4rutZ_qrsdT",
      "execution_count": null,
      "outputs": []
    },
    {
      "cell_type": "code",
      "source": [
        "!pip install --upgrade torchvision"
      ],
      "metadata": {
        "id": "bHRIz35kMksS"
      },
      "id": "bHRIz35kMksS",
      "execution_count": null,
      "outputs": []
    },
    {
      "cell_type": "code",
      "source": [
        "!pip install pytorch-fid"
      ],
      "metadata": {
        "id": "aY2kxKoKPA3T",
        "outputId": "b3868fa9-56f2-4c40-cb0a-41d37d30ada7",
        "colab": {
          "base_uri": "https://localhost:8080/"
        }
      },
      "id": "aY2kxKoKPA3T",
      "execution_count": 21,
      "outputs": [
        {
          "output_type": "stream",
          "name": "stdout",
          "text": [
            "Looking in indexes: https://pypi.org/simple, https://us-python.pkg.dev/colab-wheels/public/simple/\n",
            "Requirement already satisfied: pytorch-fid in /usr/local/lib/python3.9/dist-packages (0.3.0)\n",
            "Requirement already satisfied: numpy in /usr/local/lib/python3.9/dist-packages (from pytorch-fid) (1.22.4)\n",
            "Requirement already satisfied: pillow in /usr/local/lib/python3.9/dist-packages (from pytorch-fid) (8.4.0)\n",
            "Requirement already satisfied: scipy in /usr/local/lib/python3.9/dist-packages (from pytorch-fid) (1.10.1)\n",
            "Requirement already satisfied: torch>=1.0.1 in /usr/local/lib/python3.9/dist-packages (from pytorch-fid) (2.0.0)\n",
            "Requirement already satisfied: torchvision>=0.2.2 in /usr/local/lib/python3.9/dist-packages (from pytorch-fid) (0.15.1)\n",
            "Requirement already satisfied: nvidia-cuda-cupti-cu11==11.7.101 in /usr/local/lib/python3.9/dist-packages (from torch>=1.0.1->pytorch-fid) (11.7.101)\n",
            "Requirement already satisfied: nvidia-cuda-nvrtc-cu11==11.7.99 in /usr/local/lib/python3.9/dist-packages (from torch>=1.0.1->pytorch-fid) (11.7.99)\n",
            "Requirement already satisfied: jinja2 in /usr/local/lib/python3.9/dist-packages (from torch>=1.0.1->pytorch-fid) (3.1.2)\n",
            "Requirement already satisfied: nvidia-cudnn-cu11==8.5.0.96 in /usr/local/lib/python3.9/dist-packages (from torch>=1.0.1->pytorch-fid) (8.5.0.96)\n",
            "Requirement already satisfied: nvidia-cusolver-cu11==11.4.0.1 in /usr/local/lib/python3.9/dist-packages (from torch>=1.0.1->pytorch-fid) (11.4.0.1)\n",
            "Requirement already satisfied: sympy in /usr/local/lib/python3.9/dist-packages (from torch>=1.0.1->pytorch-fid) (1.11.1)\n",
            "Requirement already satisfied: nvidia-cublas-cu11==11.10.3.66 in /usr/local/lib/python3.9/dist-packages (from torch>=1.0.1->pytorch-fid) (11.10.3.66)\n",
            "Requirement already satisfied: nvidia-cusparse-cu11==11.7.4.91 in /usr/local/lib/python3.9/dist-packages (from torch>=1.0.1->pytorch-fid) (11.7.4.91)\n",
            "Requirement already satisfied: nvidia-nvtx-cu11==11.7.91 in /usr/local/lib/python3.9/dist-packages (from torch>=1.0.1->pytorch-fid) (11.7.91)\n",
            "Requirement already satisfied: triton==2.0.0 in /usr/local/lib/python3.9/dist-packages (from torch>=1.0.1->pytorch-fid) (2.0.0)\n",
            "Requirement already satisfied: nvidia-cuda-runtime-cu11==11.7.99 in /usr/local/lib/python3.9/dist-packages (from torch>=1.0.1->pytorch-fid) (11.7.99)\n",
            "Requirement already satisfied: nvidia-curand-cu11==10.2.10.91 in /usr/local/lib/python3.9/dist-packages (from torch>=1.0.1->pytorch-fid) (10.2.10.91)\n",
            "Requirement already satisfied: networkx in /usr/local/lib/python3.9/dist-packages (from torch>=1.0.1->pytorch-fid) (3.0)\n",
            "Requirement already satisfied: filelock in /usr/local/lib/python3.9/dist-packages (from torch>=1.0.1->pytorch-fid) (3.10.7)\n",
            "Requirement already satisfied: nvidia-nccl-cu11==2.14.3 in /usr/local/lib/python3.9/dist-packages (from torch>=1.0.1->pytorch-fid) (2.14.3)\n",
            "Requirement already satisfied: typing-extensions in /usr/local/lib/python3.9/dist-packages (from torch>=1.0.1->pytorch-fid) (4.5.0)\n",
            "Requirement already satisfied: nvidia-cufft-cu11==10.9.0.58 in /usr/local/lib/python3.9/dist-packages (from torch>=1.0.1->pytorch-fid) (10.9.0.58)\n",
            "Requirement already satisfied: wheel in /usr/local/lib/python3.9/dist-packages (from nvidia-cublas-cu11==11.10.3.66->torch>=1.0.1->pytorch-fid) (0.40.0)\n",
            "Requirement already satisfied: setuptools in /usr/local/lib/python3.9/dist-packages (from nvidia-cublas-cu11==11.10.3.66->torch>=1.0.1->pytorch-fid) (67.6.1)\n",
            "Requirement already satisfied: cmake in /usr/local/lib/python3.9/dist-packages (from triton==2.0.0->torch>=1.0.1->pytorch-fid) (3.25.2)\n",
            "Requirement already satisfied: lit in /usr/local/lib/python3.9/dist-packages (from triton==2.0.0->torch>=1.0.1->pytorch-fid) (16.0.0)\n",
            "Requirement already satisfied: requests in /usr/local/lib/python3.9/dist-packages (from torchvision>=0.2.2->pytorch-fid) (2.27.1)\n",
            "Requirement already satisfied: MarkupSafe>=2.0 in /usr/local/lib/python3.9/dist-packages (from jinja2->torch>=1.0.1->pytorch-fid) (2.1.2)\n",
            "Requirement already satisfied: charset-normalizer~=2.0.0 in /usr/local/lib/python3.9/dist-packages (from requests->torchvision>=0.2.2->pytorch-fid) (2.0.12)\n",
            "Requirement already satisfied: certifi>=2017.4.17 in /usr/local/lib/python3.9/dist-packages (from requests->torchvision>=0.2.2->pytorch-fid) (2022.12.7)\n",
            "Requirement already satisfied: idna<4,>=2.5 in /usr/local/lib/python3.9/dist-packages (from requests->torchvision>=0.2.2->pytorch-fid) (3.4)\n",
            "Requirement already satisfied: urllib3<1.27,>=1.21.1 in /usr/local/lib/python3.9/dist-packages (from requests->torchvision>=0.2.2->pytorch-fid) (1.26.15)\n",
            "Requirement already satisfied: mpmath>=0.19 in /usr/local/lib/python3.9/dist-packages (from sympy->torch>=1.0.1->pytorch-fid) (1.3.0)\n"
          ]
        }
      ]
    },
    {
      "cell_type": "code",
      "source": [
        "import os\n",
        "\n",
        "# Set the path of the folder to create\n",
        "folder_path = \"picture_fake\"\n",
        "\n",
        "# Create the folder if it doesn't exist\n",
        "if not os.path.exists(folder_path):\n",
        "    os.makedirs(folder_path)"
      ],
      "metadata": {
        "id": "j1lSrXa-655g"
      },
      "id": "j1lSrXa-655g",
      "execution_count": 25,
      "outputs": []
    },
    {
      "cell_type": "code",
      "source": [
        "import os\n",
        "from PIL import Image\n",
        "\n",
        "# Set the source directory containing the subfolders with images\n",
        "src_dir = \"/content/images\"\n",
        "\n",
        "# Set the destination directory to save the combined images\n",
        "dst_dir = \"/content/picture_fake\"\n",
        "\n",
        "# Set the size to resize the images to\n",
        "size = (256, 256)\n",
        "\n",
        "# Loop through all the subfolders in the source directory\n",
        "for foldername in os.listdir(src_dir):\n",
        "    # Check if the item in the directory is a subfolder\n",
        "    if os.path.isdir(os.path.join(src_dir, foldername)):\n",
        "        # Get a list of all the image file names in the subfolder\n",
        "        image_files = [f for f in os.listdir(os.path.join(src_dir, foldername)) if f.endswith(\".jpg\") or f.endswith(\".JPEG\") or f.endswith(\".png\")]\n",
        "        # Check if there are at least two images in the subfolder\n",
        "        if len(image_files) >= 2:\n",
        "            # Open the first two images in the subfolder and resize them\n",
        "            img1 = Image.open(os.path.join(src_dir, foldername, image_files[0])).resize(size)\n",
        "            img2 = Image.open(os.path.join(src_dir, foldername, image_files[1])).resize(size)\n",
        "            # Combine the resized images into one column\n",
        "            combined_image = Image.new(\"RGB\", (size[0], size[1] * 2))\n",
        "            combined_image.paste(img1, (0, 0))\n",
        "            combined_image.paste(img2, (0, size[1]))\n",
        "            # Save the combined image to the destination directory\n",
        "            combined_image.save(os.path.join(dst_dir, foldername + \".jpg\"))\n",
        "\n",
        "# Get a list of all the combined images in the destination directory\n",
        "image_files = [f for f in os.listdir(dst_dir) if f.endswith(\".jpg\")]\n",
        "# Combine the images in a row\n",
        "combined_row = Image.new(\"RGB\", (size[0] * len(image_files), size[1] * 2))\n",
        "for i, image_file in enumerate(image_files):\n",
        "    image = Image.open(os.path.join(dst_dir, image_file))\n",
        "    combined_row.paste(image, (i * size[0], 0))\n",
        "# Save the combined images to the destination directory\n",
        "combined_row.save(os.path.join(dst_dir, \"combined_row_s.jpg\"))"
      ],
      "metadata": {
        "id": "vPshoayz8Etj"
      },
      "id": "vPshoayz8Etj",
      "execution_count": 26,
      "outputs": []
    },
    {
      "cell_type": "code",
      "source": [
        "import os\n",
        "\n",
        "# Set the path of the folder to create\n",
        "folder_path = \"picture_fake\"\n",
        "\n",
        "# Create the folder if it doesn't exist\n",
        "if not os.path.exists(folder_path):\n",
        "    os.makedirs(folder_path)"
      ],
      "metadata": {
        "id": "hE6SDLocA5OK"
      },
      "id": "hE6SDLocA5OK",
      "execution_count": null,
      "outputs": []
    },
    {
      "cell_type": "code",
      "source": [
        "import os\n",
        "from PIL import Image\n",
        "\n",
        "# Set the source directory containing the subfolders with images\n",
        "src_dir = \"/content/images\"\n",
        "\n",
        "# Set the destination directory to save the combined images\n",
        "dst_dir = \"/content/picture_fake\"\n",
        "\n",
        "# Set the width and height for resizing the images\n",
        "size = (64, 64)\n",
        "\n",
        "# Set the number of images to resize and combine in each subfolder\n",
        "num_images = 2\n",
        "\n",
        "# Get a list of all the subfolders in the source directory\n",
        "subfolders = sorted([os.path.join(src_dir, subfolder) for subfolder in os.listdir(src_dir) if os.path.isdir(os.path.join(src_dir, subfolder))])\n",
        "\n",
        "# Loop through all the subfolders\n",
        "resized_images = []\n",
        "for subfolder in subfolders:\n",
        "    # Get a list of all the image files in the subfolder\n",
        "    image_files = sorted([os.path.join(subfolder, filename) for filename in os.listdir(subfolder) if filename.endswith(\".jpg\") or filename.endswith(\".JPEG\") or filename.endswith(\".png\")])\n",
        "    \n",
        "    # Loop through the first num_images image files in the subfolder and resize them\n",
        "    for image_file in image_files[:num_images]:\n",
        "        with Image.open(image_file) as img:\n",
        "            img = img.resize(size)\n",
        "            resized_images.append(img)\n",
        "\n",
        "    # Combine the resized images in one column\n",
        "    combined_image = Image.new(\"RGB\", (size[0], size[1] * num_images))\n",
        "    for i, img in enumerate(resized_images):\n",
        "        combined_image.paste(img, (0, i * size[1]))\n",
        "    \n",
        "    # Save the combined image to the destination directory with the same name as the subfolder\n",
        "    resized_images = [] # Reset the list of resized images for the next subfolder\n",
        "    combined_image.save(os.path.join(dst_dir, os.path.basename(subfolder) + \".jpg\"))\n",
        "\n",
        "# Combine all the images in the destination directory in one row\n",
        "output_image = Image.new(\"RGB\", (size[0] * len(subfolders), size[1] * num_images))\n",
        "for i, subfolder in enumerate(subfolders):\n",
        "    with Image.open(os.path.join(dst_dir, os.path.basename(subfolder) + \".jpg\")) as img:\n",
        "        output_image.paste(img, (i * size[0], 0))\n",
        "        \n",
        "# Save the combined image to the destination directory\n",
        "output_image.save(os.path.join(dst_dir, \"combined_s.jpg\"))"
      ],
      "metadata": {
        "id": "zq1Pf2DwA8Kk"
      },
      "id": "zq1Pf2DwA8Kk",
      "execution_count": null,
      "outputs": []
    }
  ],
  "metadata": {
    "accelerator": "GPU",
    "colab": {
      "provenance": []
    },
    "gpuClass": "standard",
    "kernelspec": {
      "display_name": "Python 3",
      "name": "python3"
    },
    "language_info": {
      "name": "python"
    }
  },
  "nbformat": 4,
  "nbformat_minor": 5
}